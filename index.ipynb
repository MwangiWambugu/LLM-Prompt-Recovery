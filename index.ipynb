{
 "cells": [
  {
   "cell_type": "code",
   "execution_count": 1,
   "id": "16b0366a",
   "metadata": {
    "_cell_guid": "b1076dfc-b9ad-4769-8c92-a6c4dae69d19",
    "_uuid": "8f2839f25d086af736a60e9eeb907d3b93b6e0e5",
    "execution": {
     "iopub.execute_input": "2024-04-06T17:34:41.535079Z",
     "iopub.status.busy": "2024-04-06T17:34:41.534361Z",
     "iopub.status.idle": "2024-04-06T17:34:41.539359Z",
     "shell.execute_reply": "2024-04-06T17:34:41.538573Z"
    },
    "papermill": {
     "duration": 0.014274,
     "end_time": "2024-04-06T17:34:41.541215",
     "exception": false,
     "start_time": "2024-04-06T17:34:41.526941",
     "status": "completed"
    },
    "tags": []
   },
   "outputs": [],
   "source": [
    "# This Python 3 environment comes with many helpful analytics libraries installed\n",
    "# It is defined by the kaggle/python Docker image: https://github.com/kaggle/docker-python\n",
    "# # For example, here's several helpful packages to load\n",
    "\n",
    "# import numpy as np # linear algebra\n",
    "# import pandas as pd # data processing, CSV file I/O (e.g. pd.read_csv)\n",
    "\n",
    "# # Input data files are available in the read-only \"../input/\" directory\n",
    "# # For example, running this (by clicking run or pressing Shift+Enter) will list all files under the input directory\n",
    "\n",
    "# import os\n",
    "# for dirname, _, filenames in os.walk('/kaggle/input'):\n",
    "#     for filename in filenames:\n",
    "#         print(os.path.join(dirname, filename))\n",
    "\n",
    "# You can write up to 20GB to the current directory (/kaggle/working/) that gets preserved as output when you create a version using \"Save & Run All\" \n",
    "# You can also write temporary files to /kaggle/temp/, but they won't be saved outside of the current session"
   ]
  },
  {
   "cell_type": "code",
   "execution_count": 2,
   "id": "013c8cba",
   "metadata": {
    "execution": {
     "iopub.execute_input": "2024-04-06T17:34:41.553868Z",
     "iopub.status.busy": "2024-04-06T17:34:41.553636Z",
     "iopub.status.idle": "2024-04-06T17:36:55.353267Z",
     "shell.execute_reply": "2024-04-06T17:36:55.352143Z"
    },
    "papermill": {
     "duration": 133.808761,
     "end_time": "2024-04-06T17:36:55.355854",
     "exception": false,
     "start_time": "2024-04-06T17:34:41.547093",
     "status": "completed"
    },
    "tags": []
   },
   "outputs": [],
   "source": [
    "!pip install -Uq /kaggle/input/llm-whls/bitsandbytes-0.41.1-py3-none-any.whl\n",
    "!pip install -Uq /kaggle/input/llm-whls/peft-0.4.0-py3-none-any.whl\n",
    "!pip install -Uq /kaggle/input/hf-llms-whls/transformers-4.38.2-py3-none-any.whl\n",
    "!pip install -Uq /kaggle/input/llm-accelerate-whl/accelerate-0.22.0-py3-none-any.whl"
   ]
  },
  {
   "cell_type": "code",
   "execution_count": 3,
   "id": "ecab86e6",
   "metadata": {
    "execution": {
     "iopub.execute_input": "2024-04-06T17:36:55.369922Z",
     "iopub.status.busy": "2024-04-06T17:36:55.369614Z",
     "iopub.status.idle": "2024-04-06T17:36:55.374005Z",
     "shell.execute_reply": "2024-04-06T17:36:55.373141Z"
    },
    "papermill": {
     "duration": 0.013662,
     "end_time": "2024-04-06T17:36:55.375839",
     "exception": false,
     "start_time": "2024-04-06T17:36:55.362177",
     "status": "completed"
    },
    "tags": []
   },
   "outputs": [],
   "source": [
    "# !pip install accelerate"
   ]
  },
  {
   "cell_type": "code",
   "execution_count": 4,
   "id": "a92bf240",
   "metadata": {
    "execution": {
     "iopub.execute_input": "2024-04-06T17:36:55.388666Z",
     "iopub.status.busy": "2024-04-06T17:36:55.388366Z",
     "iopub.status.idle": "2024-04-06T17:37:13.765744Z",
     "shell.execute_reply": "2024-04-06T17:37:13.764960Z"
    },
    "papermill": {
     "duration": 18.386319,
     "end_time": "2024-04-06T17:37:13.767974",
     "exception": false,
     "start_time": "2024-04-06T17:36:55.381655",
     "status": "completed"
    },
    "tags": []
   },
   "outputs": [
    {
     "name": "stderr",
     "output_type": "stream",
     "text": [
      "2024-04-06 17:37:04.605808: E external/local_xla/xla/stream_executor/cuda/cuda_dnn.cc:9261] Unable to register cuDNN factory: Attempting to register factory for plugin cuDNN when one has already been registered\n",
      "2024-04-06 17:37:04.605909: E external/local_xla/xla/stream_executor/cuda/cuda_fft.cc:607] Unable to register cuFFT factory: Attempting to register factory for plugin cuFFT when one has already been registered\n",
      "2024-04-06 17:37:04.732744: E external/local_xla/xla/stream_executor/cuda/cuda_blas.cc:1515] Unable to register cuBLAS factory: Attempting to register factory for plugin cuBLAS when one has already been registered\n"
     ]
    }
   ],
   "source": [
    "import torch\n",
    "from transformers import AutoModelForCausalLM, AutoTokenizer, BitsAndBytesConfig,AutoConfig\n",
    "import numpy as np\n",
    "import pandas as pd\n",
    "from tqdm.auto import tqdm\n",
    "from peft import PeftConfig, PeftModel,LoraConfig\n"
   ]
  },
  {
   "cell_type": "code",
   "execution_count": 5,
   "id": "837b1c4f",
   "metadata": {
    "execution": {
     "iopub.execute_input": "2024-04-06T17:37:13.781267Z",
     "iopub.status.busy": "2024-04-06T17:37:13.780745Z",
     "iopub.status.idle": "2024-04-06T17:37:13.784841Z",
     "shell.execute_reply": "2024-04-06T17:37:13.784099Z"
    },
    "papermill": {
     "duration": 0.012612,
     "end_time": "2024-04-06T17:37:13.786686",
     "exception": false,
     "start_time": "2024-04-06T17:37:13.774074",
     "status": "completed"
    },
    "tags": []
   },
   "outputs": [],
   "source": [
    "input_token_len = 512\n",
    "output_token_len = 100"
   ]
  },
  {
   "cell_type": "code",
   "execution_count": 6,
   "id": "7d32c023",
   "metadata": {
    "execution": {
     "iopub.execute_input": "2024-04-06T17:37:13.799570Z",
     "iopub.status.busy": "2024-04-06T17:37:13.799087Z",
     "iopub.status.idle": "2024-04-06T17:37:13.820105Z",
     "shell.execute_reply": "2024-04-06T17:37:13.819226Z"
    },
    "papermill": {
     "duration": 0.029503,
     "end_time": "2024-04-06T17:37:13.822127",
     "exception": false,
     "start_time": "2024-04-06T17:37:13.792624",
     "status": "completed"
    },
    "tags": []
   },
   "outputs": [
    {
     "data": {
      "text/html": [
       "<div>\n",
       "<style scoped>\n",
       "    .dataframe tbody tr th:only-of-type {\n",
       "        vertical-align: middle;\n",
       "    }\n",
       "\n",
       "    .dataframe tbody tr th {\n",
       "        vertical-align: top;\n",
       "    }\n",
       "\n",
       "    .dataframe thead th {\n",
       "        text-align: right;\n",
       "    }\n",
       "</style>\n",
       "<table border=\"1\" class=\"dataframe\">\n",
       "  <thead>\n",
       "    <tr style=\"text-align: right;\">\n",
       "      <th></th>\n",
       "      <th>id</th>\n",
       "      <th>original_text</th>\n",
       "      <th>rewritten_text</th>\n",
       "    </tr>\n",
       "  </thead>\n",
       "  <tbody>\n",
       "    <tr>\n",
       "      <th>0</th>\n",
       "      <td>-1</td>\n",
       "      <td>The competition dataset comprises text passage...</td>\n",
       "      <td>Here is your shanty: (Verse 1) The text is rew...</td>\n",
       "    </tr>\n",
       "  </tbody>\n",
       "</table>\n",
       "</div>"
      ],
      "text/plain": [
       "   id                                      original_text  \\\n",
       "0  -1  The competition dataset comprises text passage...   \n",
       "\n",
       "                                      rewritten_text  \n",
       "0  Here is your shanty: (Verse 1) The text is rew...  "
      ]
     },
     "execution_count": 6,
     "metadata": {},
     "output_type": "execute_result"
    }
   ],
   "source": [
    "df = pd.read_csv(\"/kaggle/input/llm-prompt-recovery/test.csv\")\n",
    "\n",
    "df\n"
   ]
  },
  {
   "cell_type": "code",
   "execution_count": 7,
   "id": "89674a0f",
   "metadata": {
    "execution": {
     "iopub.execute_input": "2024-04-06T17:37:13.835438Z",
     "iopub.status.busy": "2024-04-06T17:37:13.834976Z",
     "iopub.status.idle": "2024-04-06T17:37:13.838734Z",
     "shell.execute_reply": "2024-04-06T17:37:13.837925Z"
    },
    "papermill": {
     "duration": 0.012405,
     "end_time": "2024-04-06T17:37:13.840622",
     "exception": false,
     "start_time": "2024-04-06T17:37:13.828217",
     "status": "completed"
    },
    "tags": []
   },
   "outputs": [],
   "source": [
    "model_path = \"/kaggle/input/phi/transformers/1/1\"  \n",
    "adapter_path = \"/kaggle/input/phi2-public-data-sft-adapter/pytorch/public-data-sft/1/phi2_public_data_sft\"\n"
   ]
  },
  {
   "cell_type": "code",
   "execution_count": 8,
   "id": "149ecc43",
   "metadata": {
    "execution": {
     "iopub.execute_input": "2024-04-06T17:37:13.855025Z",
     "iopub.status.busy": "2024-04-06T17:37:13.854762Z",
     "iopub.status.idle": "2024-04-06T17:37:13.858861Z",
     "shell.execute_reply": "2024-04-06T17:37:13.858020Z"
    },
    "papermill": {
     "duration": 0.012844,
     "end_time": "2024-04-06T17:37:13.860702",
     "exception": false,
     "start_time": "2024-04-06T17:37:13.847858",
     "status": "completed"
    },
    "tags": []
   },
   "outputs": [],
   "source": [
    "device = torch.device(\"cuda\" if torch.cuda.is_available() else \"cpu\")\n"
   ]
  },
  {
   "cell_type": "code",
   "execution_count": 9,
   "id": "68969cfa",
   "metadata": {
    "execution": {
     "iopub.execute_input": "2024-04-06T17:37:13.874273Z",
     "iopub.status.busy": "2024-04-06T17:37:13.873783Z",
     "iopub.status.idle": "2024-04-06T17:37:14.056674Z",
     "shell.execute_reply": "2024-04-06T17:37:14.055691Z"
    },
    "papermill": {
     "duration": 0.192469,
     "end_time": "2024-04-06T17:37:14.059080",
     "exception": false,
     "start_time": "2024-04-06T17:37:13.866611",
     "status": "completed"
    },
    "tags": []
   },
   "outputs": [],
   "source": [
    "tokenizer = AutoTokenizer.from_pretrained(model_path,trust_remote_code=True)\n",
    "if tokenizer.pad_token is None:\n",
    "    tokenizer.pad_token = tokenizer.eos_token\n"
   ]
  },
  {
   "cell_type": "code",
   "execution_count": 10,
   "id": "a0d1e293",
   "metadata": {
    "execution": {
     "iopub.execute_input": "2024-04-06T17:37:14.072561Z",
     "iopub.status.busy": "2024-04-06T17:37:14.072233Z",
     "iopub.status.idle": "2024-04-06T17:37:14.076652Z",
     "shell.execute_reply": "2024-04-06T17:37:14.075862Z"
    },
    "papermill": {
     "duration": 0.013314,
     "end_time": "2024-04-06T17:37:14.078603",
     "exception": false,
     "start_time": "2024-04-06T17:37:14.065289",
     "status": "completed"
    },
    "tags": []
   },
   "outputs": [],
   "source": [
    "peft_config = LoraConfig(\n",
    "    lora_alpha=16,\n",
    "    lora_dropout=0.1,\n",
    "    r=64,\n",
    "    bias=\"none\",\n",
    "    task_type=\"CAUSAL_LM\",)"
   ]
  },
  {
   "cell_type": "code",
   "execution_count": 11,
   "id": "04e89081",
   "metadata": {
    "execution": {
     "iopub.execute_input": "2024-04-06T17:37:14.091698Z",
     "iopub.status.busy": "2024-04-06T17:37:14.091395Z",
     "iopub.status.idle": "2024-04-06T17:37:14.097132Z",
     "shell.execute_reply": "2024-04-06T17:37:14.096435Z"
    },
    "papermill": {
     "duration": 0.014498,
     "end_time": "2024-04-06T17:37:14.099095",
     "exception": false,
     "start_time": "2024-04-06T17:37:14.084597",
     "status": "completed"
    },
    "tags": []
   },
   "outputs": [],
   "source": [
    "# compute_dtype = getattr(torch, \"float16\")\n",
    "\n",
    "bnb_config = BitsAndBytesConfig(\n",
    "    load_in_4bit=True,\n",
    "    bnb_4bit_quant_type=\"nf4\",\n",
    "    bnb_4bit_compute_dtype=torch.bfloat16,\n",
    "    bnb_4bit_use_double_quant=True,\n",
    ")\n"
   ]
  },
  {
   "cell_type": "code",
   "execution_count": 12,
   "id": "21277954",
   "metadata": {
    "execution": {
     "iopub.execute_input": "2024-04-06T17:37:14.112234Z",
     "iopub.status.busy": "2024-04-06T17:37:14.111970Z",
     "iopub.status.idle": "2024-04-06T17:37:38.946997Z",
     "shell.execute_reply": "2024-04-06T17:37:38.946137Z"
    },
    "papermill": {
     "duration": 24.844114,
     "end_time": "2024-04-06T17:37:38.949173",
     "exception": false,
     "start_time": "2024-04-06T17:37:14.105059",
     "status": "completed"
    },
    "tags": []
   },
   "outputs": [
    {
     "name": "stderr",
     "output_type": "stream",
     "text": [
      "/opt/conda/lib/python3.10/site-packages/torch/_utils.py:831: UserWarning: TypedStorage is deprecated. It will be removed in the future and UntypedStorage will be the only storage class. This should only matter to you if you are using storages directly.  To access UntypedStorage directly, use tensor.untyped_storage() instead of tensor.storage()\n",
      "  return self.fget.__get__(instance, owner)()\n"
     ]
    }
   ],
   "source": [
    "model = AutoModelForCausalLM.from_pretrained(model_path,trust_remote_code=True)\n",
    "# model = PeftModel.from_pretrained(model, adapter_path)"
   ]
  },
  {
   "cell_type": "code",
   "execution_count": 13,
   "id": "4fb63063",
   "metadata": {
    "execution": {
     "iopub.execute_input": "2024-04-06T17:37:38.963327Z",
     "iopub.status.busy": "2024-04-06T17:37:38.962797Z",
     "iopub.status.idle": "2024-04-06T17:37:40.683437Z",
     "shell.execute_reply": "2024-04-06T17:37:40.682341Z"
    },
    "papermill": {
     "duration": 1.729875,
     "end_time": "2024-04-06T17:37:40.685547",
     "exception": false,
     "start_time": "2024-04-06T17:37:38.955672",
     "status": "completed"
    },
    "tags": []
   },
   "outputs": [
    {
     "name": "stdout",
     "output_type": "stream",
     "text": [
      "Model loaded!\n"
     ]
    }
   ],
   "source": [
    "def get_peft_model(original_model, peft_config):\n",
    "    # Your implementation here to create or modify the original_model using peft_config\n",
    "    modified_model = model  # For illustration, you need to actually modify the model\n",
    "    return modified_model  # Return the modified or new model object\n",
    "\n",
    "# Call the get_peft_model function with the original model and peft_config parameters\n",
    "model = get_peft_model(model, peft_config)\n",
    "\n",
    "# Check if model is not None before calling methods on it\n",
    "if model is not None:\n",
    "    model.to(device)\n",
    "    model.eval()\n",
    "    print('Model loaded!')\n",
    "else:\n",
    "    print('Failed to load model!')"
   ]
  },
  {
   "cell_type": "code",
   "execution_count": 14,
   "id": "11f9d740",
   "metadata": {
    "execution": {
     "iopub.execute_input": "2024-04-06T17:37:40.700168Z",
     "iopub.status.busy": "2024-04-06T17:37:40.699819Z",
     "iopub.status.idle": "2024-04-06T17:37:40.708224Z",
     "shell.execute_reply": "2024-04-06T17:37:40.707255Z"
    },
    "papermill": {
     "duration": 0.0182,
     "end_time": "2024-04-06T17:37:40.710369",
     "exception": false,
     "start_time": "2024-04-06T17:37:40.692169",
     "status": "completed"
    },
    "tags": []
   },
   "outputs": [],
   "source": [
    "def text_generate(ori_text, rew_text, model, tokenizer, input_max_len=512, output_len=20, device='cuda'):\n",
    "    prompt = f\"Instruct: Original Text:{ori_text}\\nRewritten Text:{rew_text}\\nWrite a prompt that was likely given to the LLM to rewrite original text to rewritten text.\\nOutput:\"\n",
    "    inputs = tokenizer(prompt, max_length=input_max_len, truncation=True, return_tensors=\"pt\", return_attention_mask=False)\n",
    "    \n",
    "    input_token_len = len(inputs.input_ids[0])\n",
    "    inputs = {k:v.to(device) for k,v in inputs.items()}\n",
    "    max_len = input_token_len + output_len\n",
    "    outputs = model.generate(**inputs,\n",
    "                         do_sample=False,\n",
    "                         max_length=max_len,\n",
    "                         pad_token_id=tokenizer.pad_token_id,\n",
    "                         )\n",
    "    text = tokenizer.batch_decode(outputs,skip_special_tokens=True,clean_up_tokenization_spaces=False)[0]\n",
    "    start_index = text.find('Output:')\n",
    "    generated_text = text[start_index+len('Output:'):].strip()\n",
    "    return generated_text"
   ]
  },
  {
   "cell_type": "code",
   "execution_count": 15,
   "id": "130b015f",
   "metadata": {
    "execution": {
     "iopub.execute_input": "2024-04-06T17:37:40.725594Z",
     "iopub.status.busy": "2024-04-06T17:37:40.725244Z",
     "iopub.status.idle": "2024-04-06T17:37:40.729816Z",
     "shell.execute_reply": "2024-04-06T17:37:40.728849Z"
    },
    "papermill": {
     "duration": 0.014581,
     "end_time": "2024-04-06T17:37:40.732051",
     "exception": false,
     "start_time": "2024-04-06T17:37:40.717470",
     "status": "completed"
    },
    "tags": []
   },
   "outputs": [],
   "source": [
    "mean_prompt = \"'Please improve the following text using the writing style of, maintaining the original meaning but altering the tone, diction, and stylistic elements to match the new style.Enhance the clarity, elegance, and impact of the following text by adopting the writing style of , ensuring the core message remains intact while transforming the tone, word choice, and stylistic features to align with the specified style.'\""
   ]
  },
  {
   "cell_type": "code",
   "execution_count": 16,
   "id": "2c6dfb1a",
   "metadata": {
    "execution": {
     "iopub.execute_input": "2024-04-06T17:37:40.747289Z",
     "iopub.status.busy": "2024-04-06T17:37:40.746971Z",
     "iopub.status.idle": "2024-04-06T17:37:40.751200Z",
     "shell.execute_reply": "2024-04-06T17:37:40.750220Z"
    },
    "papermill": {
     "duration": 0.014195,
     "end_time": "2024-04-06T17:37:40.753335",
     "exception": false,
     "start_time": "2024-04-06T17:37:40.739140",
     "status": "completed"
    },
    "tags": []
   },
   "outputs": [],
   "source": [
    "rewrite_prompts = []"
   ]
  },
  {
   "cell_type": "code",
   "execution_count": 17,
   "id": "80cf45f5",
   "metadata": {
    "execution": {
     "iopub.execute_input": "2024-04-06T17:37:40.768980Z",
     "iopub.status.busy": "2024-04-06T17:37:40.768386Z",
     "iopub.status.idle": "2024-04-06T17:37:44.109704Z",
     "shell.execute_reply": "2024-04-06T17:37:44.108780Z"
    },
    "papermill": {
     "duration": 3.351677,
     "end_time": "2024-04-06T17:37:44.112186",
     "exception": false,
     "start_time": "2024-04-06T17:37:40.760509",
     "status": "completed"
    },
    "tags": []
   },
   "outputs": [
    {
     "data": {
      "application/vnd.jupyter.widget-view+json": {
       "model_id": "600a70fcc2d84d7580c0e97cd4ac4485",
       "version_major": 2,
       "version_minor": 0
      },
      "text/plain": [
       "  0%|          | 0/1 [00:00<?, ?it/s]"
      ]
     },
     "metadata": {},
     "output_type": "display_data"
    }
   ],
   "source": [
    "for i, row in tqdm(df.iterrows(), total=len(df)):\n",
    "    prompt = mean_prompt\n",
    "    try:\n",
    "        prompt = text_generate(row['original_text'],\n",
    "                               row['rewritten_text'],\n",
    "                               model,\n",
    "                               tokenizer,\n",
    "                               input_token_len,\n",
    "                               output_token_len,\n",
    "                               device,\n",
    "                              )\n",
    "    except:\n",
    "        pass\n",
    "        \n",
    "    rewrite_prompts.append(prompt)"
   ]
  },
  {
   "cell_type": "code",
   "execution_count": 18,
   "id": "fb2dad30",
   "metadata": {
    "execution": {
     "iopub.execute_input": "2024-04-06T17:37:44.128215Z",
     "iopub.status.busy": "2024-04-06T17:37:44.127850Z",
     "iopub.status.idle": "2024-04-06T17:37:44.133089Z",
     "shell.execute_reply": "2024-04-06T17:37:44.132169Z"
    },
    "papermill": {
     "duration": 0.015027,
     "end_time": "2024-04-06T17:37:44.134958",
     "exception": false,
     "start_time": "2024-04-06T17:37:44.119931",
     "status": "completed"
    },
    "tags": []
   },
   "outputs": [],
   "source": [
    "df['rewrite_prompt'] = rewrite_prompts"
   ]
  },
  {
   "cell_type": "code",
   "execution_count": 19,
   "id": "66de36b3",
   "metadata": {
    "execution": {
     "iopub.execute_input": "2024-04-06T17:37:44.148845Z",
     "iopub.status.busy": "2024-04-06T17:37:44.148588Z",
     "iopub.status.idle": "2024-04-06T17:37:44.161440Z",
     "shell.execute_reply": "2024-04-06T17:37:44.160721Z"
    },
    "papermill": {
     "duration": 0.021898,
     "end_time": "2024-04-06T17:37:44.163290",
     "exception": false,
     "start_time": "2024-04-06T17:37:44.141392",
     "status": "completed"
    },
    "tags": []
   },
   "outputs": [],
   "source": [
    "sub_df = df[['id', 'rewrite_prompt']]\n",
    "sub_df.to_csv('submission.csv', index=False)"
   ]
  }
 ],
 "metadata": {
  "kaggle": {
   "accelerator": "gpu",
   "dataSources": [
    {
     "databundleVersionId": 7806901,
     "sourceId": 67121,
     "sourceType": "competition"
    },
    {
     "datasetId": 3600418,
     "sourceId": 6572938,
     "sourceType": "datasetVersion"
    },
    {
     "datasetId": 4571580,
     "sourceId": 7806341,
     "sourceType": "datasetVersion"
    },
    {
     "datasetId": 3667466,
     "sourceId": 6508540,
     "sourceType": "datasetVersion"
    },
    {
     "modelInstanceId": 8839,
     "sourceId": 10932,
     "sourceType": "modelInstanceVersion"
    },
    {
     "modelInstanceId": 17852,
     "sourceId": 21555,
     "sourceType": "modelInstanceVersion"
    }
   ],
   "dockerImageVersionId": 30674,
   "isGpuEnabled": true,
   "isInternetEnabled": false,
   "language": "python",
   "sourceType": "notebook"
  },
  "kernelspec": {
   "display_name": "Python 3",
   "language": "python",
   "name": "python3"
  },
  "language_info": {
   "codemirror_mode": {
    "name": "ipython",
    "version": 3
   },
   "file_extension": ".py",
   "mimetype": "text/x-python",
   "name": "python",
   "nbconvert_exporter": "python",
   "pygments_lexer": "ipython3",
   "version": "3.10.13"
  },
  "papermill": {
   "default_parameters": {},
   "duration": 188.21057,
   "end_time": "2024-04-06T17:37:47.020218",
   "environment_variables": {},
   "exception": null,
   "input_path": "__notebook__.ipynb",
   "output_path": "__notebook__.ipynb",
   "parameters": {},
   "start_time": "2024-04-06T17:34:38.809648",
   "version": "2.5.0"
  },
  "widgets": {
   "application/vnd.jupyter.widget-state+json": {
    "state": {
     "02c0cbf2f0744727bc47ed8d81e8c161": {
      "model_module": "@jupyter-widgets/base",
      "model_module_version": "1.2.0",
      "model_name": "LayoutModel",
      "state": {
       "_model_module": "@jupyter-widgets/base",
       "_model_module_version": "1.2.0",
       "_model_name": "LayoutModel",
       "_view_count": null,
       "_view_module": "@jupyter-widgets/base",
       "_view_module_version": "1.2.0",
       "_view_name": "LayoutView",
       "align_content": null,
       "align_items": null,
       "align_self": null,
       "border": null,
       "bottom": null,
       "display": null,
       "flex": null,
       "flex_flow": null,
       "grid_area": null,
       "grid_auto_columns": null,
       "grid_auto_flow": null,
       "grid_auto_rows": null,
       "grid_column": null,
       "grid_gap": null,
       "grid_row": null,
       "grid_template_areas": null,
       "grid_template_columns": null,
       "grid_template_rows": null,
       "height": null,
       "justify_content": null,
       "justify_items": null,
       "left": null,
       "margin": null,
       "max_height": null,
       "max_width": null,
       "min_height": null,
       "min_width": null,
       "object_fit": null,
       "object_position": null,
       "order": null,
       "overflow": null,
       "overflow_x": null,
       "overflow_y": null,
       "padding": null,
       "right": null,
       "top": null,
       "visibility": null,
       "width": null
      }
     },
     "0c2e3992912848ba9c2a4bd74eaaa874": {
      "model_module": "@jupyter-widgets/controls",
      "model_module_version": "1.5.0",
      "model_name": "DescriptionStyleModel",
      "state": {
       "_model_module": "@jupyter-widgets/controls",
       "_model_module_version": "1.5.0",
       "_model_name": "DescriptionStyleModel",
       "_view_count": null,
       "_view_module": "@jupyter-widgets/base",
       "_view_module_version": "1.2.0",
       "_view_name": "StyleView",
       "description_width": ""
      }
     },
     "3dae5a005ce84c3eb162707b0e6bc2a1": {
      "model_module": "@jupyter-widgets/base",
      "model_module_version": "1.2.0",
      "model_name": "LayoutModel",
      "state": {
       "_model_module": "@jupyter-widgets/base",
       "_model_module_version": "1.2.0",
       "_model_name": "LayoutModel",
       "_view_count": null,
       "_view_module": "@jupyter-widgets/base",
       "_view_module_version": "1.2.0",
       "_view_name": "LayoutView",
       "align_content": null,
       "align_items": null,
       "align_self": null,
       "border": null,
       "bottom": null,
       "display": null,
       "flex": null,
       "flex_flow": null,
       "grid_area": null,
       "grid_auto_columns": null,
       "grid_auto_flow": null,
       "grid_auto_rows": null,
       "grid_column": null,
       "grid_gap": null,
       "grid_row": null,
       "grid_template_areas": null,
       "grid_template_columns": null,
       "grid_template_rows": null,
       "height": null,
       "justify_content": null,
       "justify_items": null,
       "left": null,
       "margin": null,
       "max_height": null,
       "max_width": null,
       "min_height": null,
       "min_width": null,
       "object_fit": null,
       "object_position": null,
       "order": null,
       "overflow": null,
       "overflow_x": null,
       "overflow_y": null,
       "padding": null,
       "right": null,
       "top": null,
       "visibility": null,
       "width": null
      }
     },
     "3fc09286cbfe44d5b950b97369668cb2": {
      "model_module": "@jupyter-widgets/base",
      "model_module_version": "1.2.0",
      "model_name": "LayoutModel",
      "state": {
       "_model_module": "@jupyter-widgets/base",
       "_model_module_version": "1.2.0",
       "_model_name": "LayoutModel",
       "_view_count": null,
       "_view_module": "@jupyter-widgets/base",
       "_view_module_version": "1.2.0",
       "_view_name": "LayoutView",
       "align_content": null,
       "align_items": null,
       "align_self": null,
       "border": null,
       "bottom": null,
       "display": null,
       "flex": null,
       "flex_flow": null,
       "grid_area": null,
       "grid_auto_columns": null,
       "grid_auto_flow": null,
       "grid_auto_rows": null,
       "grid_column": null,
       "grid_gap": null,
       "grid_row": null,
       "grid_template_areas": null,
       "grid_template_columns": null,
       "grid_template_rows": null,
       "height": null,
       "justify_content": null,
       "justify_items": null,
       "left": null,
       "margin": null,
       "max_height": null,
       "max_width": null,
       "min_height": null,
       "min_width": null,
       "object_fit": null,
       "object_position": null,
       "order": null,
       "overflow": null,
       "overflow_x": null,
       "overflow_y": null,
       "padding": null,
       "right": null,
       "top": null,
       "visibility": null,
       "width": null
      }
     },
     "5f7b11187acd457abb00307e7bb80560": {
      "model_module": "@jupyter-widgets/controls",
      "model_module_version": "1.5.0",
      "model_name": "HTMLModel",
      "state": {
       "_dom_classes": [],
       "_model_module": "@jupyter-widgets/controls",
       "_model_module_version": "1.5.0",
       "_model_name": "HTMLModel",
       "_view_count": null,
       "_view_module": "@jupyter-widgets/controls",
       "_view_module_version": "1.5.0",
       "_view_name": "HTMLView",
       "description": "",
       "description_tooltip": null,
       "layout": "IPY_MODEL_b850bea0d86f4ef2aaea2956222123c9",
       "placeholder": "​",
       "style": "IPY_MODEL_d6925d2a7f0445b99ae393614b4cccf2",
       "value": " 1/1 [00:03&lt;00:00,  3.33s/it]"
      }
     },
     "600a70fcc2d84d7580c0e97cd4ac4485": {
      "model_module": "@jupyter-widgets/controls",
      "model_module_version": "1.5.0",
      "model_name": "HBoxModel",
      "state": {
       "_dom_classes": [],
       "_model_module": "@jupyter-widgets/controls",
       "_model_module_version": "1.5.0",
       "_model_name": "HBoxModel",
       "_view_count": null,
       "_view_module": "@jupyter-widgets/controls",
       "_view_module_version": "1.5.0",
       "_view_name": "HBoxView",
       "box_style": "",
       "children": [
        "IPY_MODEL_bf2814e9037a4e749b456b73e89bb1db",
        "IPY_MODEL_8822b12dd4f9422fab6b0268504966c3",
        "IPY_MODEL_5f7b11187acd457abb00307e7bb80560"
       ],
       "layout": "IPY_MODEL_3fc09286cbfe44d5b950b97369668cb2"
      }
     },
     "8822b12dd4f9422fab6b0268504966c3": {
      "model_module": "@jupyter-widgets/controls",
      "model_module_version": "1.5.0",
      "model_name": "FloatProgressModel",
      "state": {
       "_dom_classes": [],
       "_model_module": "@jupyter-widgets/controls",
       "_model_module_version": "1.5.0",
       "_model_name": "FloatProgressModel",
       "_view_count": null,
       "_view_module": "@jupyter-widgets/controls",
       "_view_module_version": "1.5.0",
       "_view_name": "ProgressView",
       "bar_style": "success",
       "description": "",
       "description_tooltip": null,
       "layout": "IPY_MODEL_02c0cbf2f0744727bc47ed8d81e8c161",
       "max": 1.0,
       "min": 0.0,
       "orientation": "horizontal",
       "style": "IPY_MODEL_95067d8fb60442a1bf084d85a97ad644",
       "value": 1.0
      }
     },
     "95067d8fb60442a1bf084d85a97ad644": {
      "model_module": "@jupyter-widgets/controls",
      "model_module_version": "1.5.0",
      "model_name": "ProgressStyleModel",
      "state": {
       "_model_module": "@jupyter-widgets/controls",
       "_model_module_version": "1.5.0",
       "_model_name": "ProgressStyleModel",
       "_view_count": null,
       "_view_module": "@jupyter-widgets/base",
       "_view_module_version": "1.2.0",
       "_view_name": "StyleView",
       "bar_color": null,
       "description_width": ""
      }
     },
     "b850bea0d86f4ef2aaea2956222123c9": {
      "model_module": "@jupyter-widgets/base",
      "model_module_version": "1.2.0",
      "model_name": "LayoutModel",
      "state": {
       "_model_module": "@jupyter-widgets/base",
       "_model_module_version": "1.2.0",
       "_model_name": "LayoutModel",
       "_view_count": null,
       "_view_module": "@jupyter-widgets/base",
       "_view_module_version": "1.2.0",
       "_view_name": "LayoutView",
       "align_content": null,
       "align_items": null,
       "align_self": null,
       "border": null,
       "bottom": null,
       "display": null,
       "flex": null,
       "flex_flow": null,
       "grid_area": null,
       "grid_auto_columns": null,
       "grid_auto_flow": null,
       "grid_auto_rows": null,
       "grid_column": null,
       "grid_gap": null,
       "grid_row": null,
       "grid_template_areas": null,
       "grid_template_columns": null,
       "grid_template_rows": null,
       "height": null,
       "justify_content": null,
       "justify_items": null,
       "left": null,
       "margin": null,
       "max_height": null,
       "max_width": null,
       "min_height": null,
       "min_width": null,
       "object_fit": null,
       "object_position": null,
       "order": null,
       "overflow": null,
       "overflow_x": null,
       "overflow_y": null,
       "padding": null,
       "right": null,
       "top": null,
       "visibility": null,
       "width": null
      }
     },
     "bf2814e9037a4e749b456b73e89bb1db": {
      "model_module": "@jupyter-widgets/controls",
      "model_module_version": "1.5.0",
      "model_name": "HTMLModel",
      "state": {
       "_dom_classes": [],
       "_model_module": "@jupyter-widgets/controls",
       "_model_module_version": "1.5.0",
       "_model_name": "HTMLModel",
       "_view_count": null,
       "_view_module": "@jupyter-widgets/controls",
       "_view_module_version": "1.5.0",
       "_view_name": "HTMLView",
       "description": "",
       "description_tooltip": null,
       "layout": "IPY_MODEL_3dae5a005ce84c3eb162707b0e6bc2a1",
       "placeholder": "​",
       "style": "IPY_MODEL_0c2e3992912848ba9c2a4bd74eaaa874",
       "value": "100%"
      }
     },
     "d6925d2a7f0445b99ae393614b4cccf2": {
      "model_module": "@jupyter-widgets/controls",
      "model_module_version": "1.5.0",
      "model_name": "DescriptionStyleModel",
      "state": {
       "_model_module": "@jupyter-widgets/controls",
       "_model_module_version": "1.5.0",
       "_model_name": "DescriptionStyleModel",
       "_view_count": null,
       "_view_module": "@jupyter-widgets/base",
       "_view_module_version": "1.2.0",
       "_view_name": "StyleView",
       "description_width": ""
      }
     }
    },
    "version_major": 2,
    "version_minor": 0
   }
  }
 },
 "nbformat": 4,
 "nbformat_minor": 5
}
